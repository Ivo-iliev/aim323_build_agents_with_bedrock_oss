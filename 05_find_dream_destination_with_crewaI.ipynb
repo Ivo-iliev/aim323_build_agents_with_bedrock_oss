{
 "cells": [
  {
   "cell_type": "markdown",
   "id": "d43f5f94e98f67ce",
   "metadata": {},
   "source": [
    "# Dream Destination Finder with CrewAI and Amazon Bedrock\n",
    "\n",
    "In this notebook, we will explore how to use the CrewAI framework with Amazon Bedrock to build an intelligent agent that can find dream travel destinations based on user preferences. The agent will utilize a large language model (LLM) and web search capabilities to research and recommend destinations that match the user's description."
   ]
  },
  {
   "cell_type": "markdown",
   "id": "19f933cf500287b",
   "metadata": {},
   "source": [
    "### Prerequisites\n",
    "\n",
    "Before we begin, make sure you have the following installed:\n",
    "`boto3` and `botocore` for interacting with AWS services\n",
    "`crewai` and `crewai_tools` for building agentic workflows"
   ]
  },
  {
   "cell_type": "code",
   "execution_count": null,
   "id": "ca7f66e2d4db085e",
   "metadata": {
    "ExecuteTime": {
     "end_time": "2024-11-23T18:11:21.882632Z",
     "start_time": "2024-11-23T18:11:21.880054Z"
    }
   },
   "outputs": [],
   "source": [
    "# !pip install boto3==1.34.162 botocore==1.34.162 crewai==0.70.1 crewai_tools==0.14.0 duckduckgo-search==6.3.1 unstructured==0.16.6 PyPDF2==3.0.1"
   ]
  },
  {
   "cell_type": "markdown",
   "id": "295440a13877b98d",
   "metadata": {},
   "source": [
    "__!pip install boto3 botocore crewai crewai_tools duckduckgo-search langchain-community -q__\n",
    "\n",
    "We start by importing the necessary modules from the crewai and crewai_tools packages."
   ]
  },
  {
   "cell_type": "markdown",
   "id": "98732d9738f040a1",
   "metadata": {},
   "source": [
    "#### Configuring AWS Credentials:\n",
    "Before using Amazon Bedrock, ensure that your AWS credentials are configured correctly. You can set them up using the AWS CLI or by setting environment variables. For this notebook, we’ll assume that the credentials are already configured.\n",
    "\n",
    "To use bedrock we will use [__CrewAI__ __LLM__ api](https://docs.crewai.com/how-to/llm-connections#supported-providers) "
   ]
  },
  {
   "cell_type": "code",
   "execution_count": null,
   "id": "fa8b1e2e8d3e694b",
   "metadata": {
    "ExecuteTime": {
     "end_time": "2024-11-23T18:11:29.294184Z",
     "start_time": "2024-11-23T18:11:26.717248Z"
    }
   },
   "outputs": [],
   "source": [
    "from crewai import Agent, Task, Crew, LLM\n",
    "from crewai_tools import tool\n",
    "from langchain_community.tools import DuckDuckGoSearchRun"
   ]
  },
  {
   "cell_type": "markdown",
   "id": "94b7fd26fddd54cf",
   "metadata": {},
   "source": [
    "#### Define web-search tool"
   ]
  },
  {
   "cell_type": "code",
   "execution_count": null,
   "id": "60c9a9e2b41b68b1",
   "metadata": {
    "ExecuteTime": {
     "end_time": "2024-11-23T18:11:31.718999Z",
     "start_time": "2024-11-23T18:11:31.710378Z"
    }
   },
   "outputs": [],
   "source": [
    "@tool('DuckDuckGoSearch')\n",
    "def search(search_query: str):\n",
    "    \"\"\"Search the web for information on a given topic\"\"\"\n",
    "    return DuckDuckGoSearchRun().run(search_query)"
   ]
  },
  {
   "cell_type": "markdown",
   "id": "f5f166514cb8a9cf",
   "metadata": {},
   "source": [
    "### Configuring the LLM\n",
    "\n",
    "We will use Anthropic’s Claude-3 model via Amazon Bedrock as our LLM. CrewAI uses LiteLLM under the hood to interact with different LLM providers.\n"
   ]
  },
  {
   "cell_type": "code",
   "execution_count": null,
   "id": "2ab86d9da488f3c4",
   "metadata": {
    "ExecuteTime": {
     "end_time": "2024-11-23T18:11:32.100613Z",
     "start_time": "2024-11-23T18:11:32.099038Z"
    }
   },
   "outputs": [],
   "source": [
    "# Configure the LLM\n",
    "llm = LLM(model=\"bedrock/anthropic.claude-3-haiku-20240307-v1:0\")"
   ]
  },
  {
   "cell_type": "markdown",
   "id": "8cb65fb92cb1327",
   "metadata": {},
   "source": [
    "### Defining the Agent\n",
    "\n",
    "We will create an agent with the role of a “Travel Destination Researcher.” This agent will be responsible for finding destinations that match the user’s travel preferences."
   ]
  },
  {
   "cell_type": "code",
   "execution_count": null,
   "id": "c10f2b040b544201",
   "metadata": {
    "ExecuteTime": {
     "end_time": "2024-11-23T18:11:32.495856Z",
     "start_time": "2024-11-23T18:11:32.491943Z"
    }
   },
   "outputs": [],
   "source": [
    "# Define the Agent\n",
    "travel_agent = Agent(\n",
    "    role='Travel Destination Researcher',\n",
    "    goal='Find dream destinations matching user preferences',\n",
    "    backstory=\"You are an experienced travel agent specializing in personalized travel recommendations.\",\n",
    "    verbose=True,\n",
    "    allow_delegation=False,\n",
    "    llm=llm,\n",
    "    tools=[search]  # Tool for online searching\n",
    ")"
   ]
  },
  {
   "cell_type": "markdown",
   "id": "f4ad2d2a57c8eb1f",
   "metadata": {},
   "source": [
    "### Defining the Task\n",
    "\n",
    "We need to specify the task that the agent will perform. The task includes a description, expected output, and is assigned to the agent we just created."
   ]
  },
  {
   "cell_type": "code",
   "execution_count": null,
   "id": "4070f14c83088029",
   "metadata": {
    "ExecuteTime": {
     "end_time": "2024-11-23T18:11:32.826336Z",
     "start_time": "2024-11-23T18:11:32.824435Z"
    }
   },
   "outputs": [],
   "source": [
    "# Define the Task\n",
    "task = Task(\n",
    "    description=\"Based on the user's travel preferences: {preferences}, research and recommend suitable travel destinations.\",\n",
    "    expected_output=\"A list of recommended destinations with brief descriptions.\",\n",
    "    agent=travel_agent\n",
    ")"
   ]
  },
  {
   "cell_type": "markdown",
   "id": "4294563262fbb901",
   "metadata": {},
   "source": [
    "### Creating the Crew\n",
    "\n",
    "A crew is a team of agents working together to achieve a common goal. In this case, we have only one agent, but the framework allows for scalability.\n"
   ]
  },
  {
   "cell_type": "code",
   "execution_count": null,
   "id": "494d5f9cc3497974",
   "metadata": {
    "ExecuteTime": {
     "end_time": "2024-11-23T18:11:33.213570Z",
     "start_time": "2024-11-23T18:11:33.209168Z"
    }
   },
   "outputs": [],
   "source": [
    "# Create the Crew\n",
    "crew = Crew(\n",
    "    agents=[travel_agent],\n",
    "    tasks=[task],\n",
    "    verbose=True,\n",
    ")"
   ]
  },
  {
   "cell_type": "markdown",
   "id": "b966775d7ef0fd3d",
   "metadata": {},
   "source": [
    "### Executing the Workflow\n",
    "\n",
    "Now, we can execute the crew with the user’s travel preferences as input."
   ]
  },
  {
   "cell_type": "code",
   "execution_count": null,
   "id": "4eedbc6081480112",
   "metadata": {
    "ExecuteTime": {
     "end_time": "2024-11-23T18:11:41.271081Z",
     "start_time": "2024-11-23T18:11:33.527509Z"
    }
   },
   "outputs": [],
   "source": [
    "# User input for travel preferences\n",
    "user_input = {\n",
    "    \"preferences\": \"I want a tropical beach vacation with great snorkeling and vibrant nightlife.\"\n",
    "}\n",
    "\n",
    "# Execute the Crew\n",
    "result = crew.kickoff(inputs=user_input)"
   ]
  },
  {
   "cell_type": "markdown",
   "id": "c4d2e1cc9f6242c6",
   "metadata": {},
   "source": [
    "#### As the crew executes, CrewAI will:\n",
    "\n",
    "•\tDecompose the task into actions using ReAct (Reasoning and Act), optionally using the tools assigned to the agent.\n",
    "\n",
    "•\tMake multiple calls to Amazon Bedrock to complete each step from the previous phase."
   ]
  },
  {
   "cell_type": "code",
   "execution_count": null,
   "id": "d8d3731d0e1a4849",
   "metadata": {
    "ExecuteTime": {
     "end_time": "2024-11-23T18:11:41.283560Z",
     "start_time": "2024-11-23T18:11:41.281784Z"
    }
   },
   "outputs": [],
   "source": [
    "from IPython.display import Markdown"
   ]
  },
  {
   "cell_type": "code",
   "execution_count": null,
   "id": "80d8cf08c6cbb95b",
   "metadata": {
    "ExecuteTime": {
     "end_time": "2024-11-23T18:11:41.292671Z",
     "start_time": "2024-11-23T18:11:41.289243Z"
    }
   },
   "outputs": [],
   "source": [
    "Markdown(result.raw)"
   ]
  },
  {
   "cell_type": "markdown",
   "id": "32f45c9ae59ef17a",
   "metadata": {},
   "source": [
    "### Adding Memory to the Agent\n",
    "CrewAI supports [several memory types](https://docs.crewai.com/concepts/memory#implementing-memory-in-your-crew), which help agents remember and learn from past interactions. In this case, we’ll enable short-term memory using Amazon Bedrock’s embedding model."
   ]
  },
  {
   "cell_type": "code",
   "execution_count": null,
   "id": "28dfe7f092e2c4c2",
   "metadata": {
    "ExecuteTime": {
     "end_time": "2024-11-23T18:11:41.307134Z",
     "start_time": "2024-11-23T18:11:41.301227Z"
    }
   },
   "outputs": [],
   "source": [
    "# Enabling Memory in the Agent\n",
    "crew_with_memory = Crew(\n",
    "    agents=[travel_agent],\n",
    "    tasks=[task],\n",
    "    verbose=True,\n",
    "    memory=True,  # Enable memory\n",
    "    embedder={\n",
    "        \"provider\": \"aws_bedrock\",\n",
    "        \"config\": {\n",
    "            \"model\": \"amazon.titan-embed-text-v2:0\",  # Embedding model for memory\n",
    "            \"vector_dimension\": 1024\n",
    "        }\n",
    "    },\n",
    "    \n",
    ")"
   ]
  },
  {
   "cell_type": "code",
   "execution_count": null,
   "id": "ae235e0458732b54",
   "metadata": {
    "ExecuteTime": {
     "end_time": "2024-11-23T18:11:50.303578Z",
     "start_time": "2024-11-23T18:11:41.320688Z"
    }
   },
   "outputs": [],
   "source": [
    "# Executing the Crew with Memory\n",
    "result_with_memory = crew_with_memory.kickoff(inputs=user_input)"
   ]
  },
  {
   "cell_type": "code",
   "execution_count": null,
   "id": "b3c491409c571d1",
   "metadata": {
    "ExecuteTime": {
     "end_time": "2024-11-23T18:11:50.320251Z",
     "start_time": "2024-11-23T18:11:50.316090Z"
    }
   },
   "outputs": [],
   "source": [
    "Markdown(result_with_memory.raw)"
   ]
  },
  {
   "cell_type": "markdown",
   "id": "2affdfc71f1de059",
   "metadata": {},
   "source": [
    "### Integrating Retrieval-Augmented Generation (RAG) with Amazon Bedrock Knowledge Base\n",
    "In this section, we will enhance our dream destination finder agent by incorporating Retrieval-Augmented Generation (RAG) using Amazon Bedrock’s Knowledge Base. This will allow our agent to access up-to-date and domain-specific travel information, improving the accuracy and relevance of its recommendations.\n",
    "\n"
   ]
  },
  {
   "cell_type": "markdown",
   "id": "f06dd6a10735223e",
   "metadata": {},
   "source": [
    "#### What is Retrieval-Augmented Generation (RAG)?\n",
    "\n",
    "RAG is a technique that combines the capabilities of large language models (LLMs) with a retrieval mechanism to fetch relevant information from external data sources. By integrating RAG, our agent can retrieve the most recent and specific information from a knowledge base, overcoming the limitations of LLMs that may have outdated or insufficient data."
   ]
  },
  {
   "cell_type": "markdown",
   "id": "16a7b57d238399b8",
   "metadata": {},
   "source": [
    "Setting Up Amazon Bedrock Knowledge Base\n",
    "\n",
    "Before we proceed, ensure you have access to Amazon Bedrock and the necessary permissions to create and manage knowledge bases.\n",
    "\n",
    "* Step 1: Prepare Your Data\n",
    "* Step 2: Create a Knowledge Base in Amazon Bedrock\n",
    "* Step 3: Note the Knowledge Base ID\n",
    "\n",
    "After the knowledge base is created, note down its Knowledge Base ID (kb_id), which will be used in our code.\n",
    "\n",
    "Updating the Agent to Use RAG with CrewAI\n",
    "\n",
    "We will modify our agent to include a custom tool that queries the Amazon Bedrock Knowledge Base. This allows the agent to retrieve up-to-date information during its reasoning process."
   ]
  },
  {
   "cell_type": "code",
   "execution_count": null,
   "id": "5fddc8c81e842298",
   "metadata": {
    "ExecuteTime": {
     "end_time": "2024-11-23T18:11:50.401974Z",
     "start_time": "2024-11-23T18:11:50.330999Z"
    }
   },
   "outputs": [],
   "source": [
    "import boto3\n",
    "# Initialize the Bedrock client\n",
    "bedrock_agent_runtime_client = boto3.client(\"bedrock-agent-runtime\", region_name=\"us-east-1\")\n",
    "# Note: Replace \"us-east-1\" with your AWS region."
   ]
  },
  {
   "cell_type": "markdown",
   "id": "6874e780feb1379d",
   "metadata": {},
   "source": [
    "### FAIS Vector Store Set up:"
   ]
  },
  {
   "cell_type": "code",
   "execution_count": null,
   "id": "4522b1fed3011ffd",
   "metadata": {
    "ExecuteTime": {
     "end_time": "2024-11-23T18:15:34.898140Z",
     "start_time": "2024-11-23T18:15:30.879768Z"
    }
   },
   "outputs": [],
   "source": [
    "import os\n",
    "from uuid import uuid4\n",
    "from PyPDF2 import PdfReader\n",
    "from langchain.schema import Document\n",
    "from langchain.vectorstores import FAISS\n",
    "from langchain_aws import BedrockEmbeddings\n",
    "\n",
    "embeddings = BedrockEmbeddings(model_id=\"amazon.titan-embed-text-v2:0\")\n",
    "\n",
    "documents = []\n",
    "pdf_folder = './data/travel_guides'\n",
    "\n",
    "# Loop through PDFs in the specified folder\n",
    "for pdf_file in os.listdir(pdf_folder):\n",
    "    if pdf_file.endswith(\".pdf\"):\n",
    "        file_path = os.path.join(pdf_folder, pdf_file)\n",
    "        \n",
    "        # Extract text from PDF\n",
    "        reader = PdfReader(file_path)\n",
    "        text_content = \"\"\n",
    "        for page in reader.pages:\n",
    "            text_content += page.extract_text() + \"\\n\"\n",
    "        \n",
    "        # Create a Document instance\n",
    "        doc = Document(\n",
    "            page_content=text_content.strip(),\n",
    "            metadata={}  # Leave metadata empty for now\n",
    "        )\n",
    "        documents.append(doc)\n",
    "\n",
    "# Initialize FAISS vector store and embeddings\n",
    "embeddings = BedrockEmbeddings(model_id=\"amazon.titan-embed-text-v2:0\")\n",
    "vector_store = FAISS.from_documents(documents, embeddings)\n",
    "\n",
    "# Add unique IDs to documents and save the vector store\n",
    "uuids = [str(uuid4()) for _ in range(len(documents))]\n",
    "vector_store.add_documents(documents=documents, ids=uuids)"
   ]
  },
  {
   "cell_type": "code",
   "execution_count": null,
   "id": "d7b94876406ba39c",
   "metadata": {
    "ExecuteTime": {
     "end_time": "2024-11-23T18:15:34.976601Z",
     "start_time": "2024-11-23T18:15:34.973828Z"
    }
   },
   "outputs": [],
   "source": [
    "@tool(\"TravelExpertSearchEngine\")\n",
    "def query_knowledge_base(question: str) -> str:\n",
    "    \"\"\"Queries the Amazon Bedrock Knowledge Base for travel-related information.\"\"\"\n",
    "    try:\n",
    "        res = vector_store.similarity_search(\n",
    "        question,\n",
    "        k=1,\n",
    "        )        \n",
    "        return res[0].page_content\n",
    "    except KeyError:\n",
    "        return \"No data available\"\n",
    "\n"
   ]
  },
  {
   "cell_type": "markdown",
   "id": "7dfa59790a236991",
   "metadata": {},
   "source": [
    "### Update the Agent with the New Tool\n",
    "We will update our agent to include the TravelExpert tool."
   ]
  },
  {
   "cell_type": "code",
   "execution_count": null,
   "id": "3b4bba4439a89bc5",
   "metadata": {
    "ExecuteTime": {
     "end_time": "2024-11-23T18:15:35.485173Z",
     "start_time": "2024-11-23T18:15:35.481272Z"
    }
   },
   "outputs": [],
   "source": [
    "# Configure the LLM\n",
    "llm = LLM(model=\"bedrock/anthropic.claude-3-haiku-20240307-v1:0\")\n",
    "\n",
    "# Update the Agent\n",
    "agent_with_rag = Agent(\n",
    "    role='Travel Destination Researcher',\n",
    "    goal='Find dream destinations in the USA using only the travel guide available, first lookup cities using the tool to match user preferences and then use information from the search engine, nothing else.',\n",
    "    backstory=\"\"\"You are an experienced travel agent specializing in personalized travel recommendations. \n",
    "                 Your approach is as follows: \n",
    "                 Deduce which regions within the USA will have those activities listed by the user.\n",
    "                 List major cities within that region\n",
    "                 Only then use the tool provided to look up information, look up should be done by passing city highlights and activities.\n",
    "                 Only suggest places that were extracted using the lookup tool,\n",
    "              \"\"\",\n",
    "    verbose=True,\n",
    "    allow_delegation=False,\n",
    "    llm=llm,\n",
    "    tools=[query_knowledge_base],  # Include the RAG tool\n",
    "    max_iter=3\n",
    ")\n"
   ]
  },
  {
   "cell_type": "markdown",
   "id": "cd2594a6df73dc04",
   "metadata": {},
   "source": [
    "### Update the task and set up the Crew"
   ]
  },
  {
   "cell_type": "code",
   "execution_count": null,
   "id": "5eb1e00ef701da8f",
   "metadata": {
    "ExecuteTime": {
     "end_time": "2024-11-23T18:15:37.628624Z",
     "start_time": "2024-11-23T18:15:37.622076Z"
    }
   },
   "outputs": [],
   "source": [
    "# Define the Task\n",
    "task_with_rag = Task(\n",
    "    description=\"Based on the user's travel request, research and recommend suitable travel destinations using the latest information. Only use output provided by the Travel Destination Researcher, nothing else: USER: {preferences}\",\n",
    "    expected_output=\"A place where they can travel to along with recommendations on what to see and do while there.\",\n",
    "    agent=agent_with_rag\n",
    ")\n",
    "\n",
    "\n",
    "# Create the Crew\n",
    "crew_with_rag = Crew(\n",
    "    agents=[agent_with_rag],\n",
    "    tasks=[task_with_rag],\n",
    "    verbose=True,\n",
    ")"
   ]
  },
  {
   "cell_type": "code",
   "execution_count": null,
   "id": "67f54c08a7f997fa",
   "metadata": {
    "ExecuteTime": {
     "end_time": "2024-11-23T18:15:44.733535Z",
     "start_time": "2024-11-23T18:15:38.058190Z"
    }
   },
   "outputs": [],
   "source": [
    "# User input for travel preferences\n",
    "user_input = {\n",
    "    \"preferences\": \"Where can I go for cowboy vibes, watch a rodeo, and a visit museums?\"\n",
    "}\n",
    "\n",
    "# Execute the Crew\n",
    "result_with_rag = crew_with_rag.kickoff(inputs=user_input)\n"
   ]
  },
  {
   "cell_type": "markdown",
   "id": "f6f1ac2d30762c81",
   "metadata": {},
   "source": [
    "### Display the results"
   ]
  },
  {
   "cell_type": "code",
   "execution_count": null,
   "id": "f10d84c9acdc730e",
   "metadata": {
    "ExecuteTime": {
     "end_time": "2024-11-23T18:15:44.743348Z",
     "start_time": "2024-11-23T18:15:44.740838Z"
    }
   },
   "outputs": [],
   "source": [
    "# Display the result\n",
    "Markdown(result_with_rag.raw)"
   ]
  },
  {
   "cell_type": "code",
   "execution_count": null,
   "id": "a9ea7d8219641f54",
   "metadata": {},
   "outputs": [],
   "source": []
  }
 ],
 "metadata": {
  "kernelspec": {
   "display_name": "Python 3",
   "language": "python",
   "name": "python3"
  },
  "language_info": {
   "codemirror_mode": {
    "name": "ipython",
    "version": 2
   },
   "file_extension": ".py",
   "mimetype": "text/x-python",
   "name": "python",
   "nbconvert_exporter": "python",
   "pygments_lexer": "ipython2",
   "version": "2.7.6"
  }
 },
 "nbformat": 4,
 "nbformat_minor": 5
}
