{
 "cells": [
  {
   "cell_type": "markdown",
   "source": [
    "# Dream Destination Finder with CrewAI and Amazon Bedrock\n",
    "\n",
    "In this notebook, we will explore how to use the CrewAI framework with Amazon Bedrock to build an intelligent agent that can find dream travel destinations based on user preferences. The agent will utilize a large language model (LLM) and web search capabilities to research and recommend destinations that match the user's description."
  },
  {
   "cell_type": "markdown",
   "source": [
    "### Prerequisites\n",
    "\n",
    "Before we begin, make sure you have the following installed:\n",
    "`boto3` and `botocore` for interacting with AWS services\n",
    "`crewai` and `crewai_tools` for building agentic workflows"
  },
  {
   "metadata": {
    "ExecuteTime": {
     "end_time": "2024-11-23T18:11:21.882632Z",
     "start_time": "2024-11-23T18:11:21.880054Z"
    }
   },
   "outputs": [],
  },
  {
   "cell_type": "markdown",
   "source": [
    "__!pip install boto3 botocore crewai crewai_tools duckduckgo-search langchain-community -q__\n",
    "\n",
    "We start by importing the necessary modules from the crewai and crewai_tools packages."
  },
  {
   "cell_type": "markdown",
   "source": [
    "#### Configuring AWS Credentials:\n",
    "Before using Amazon Bedrock, ensure that your AWS credentials are configured correctly. You can set them up using the AWS CLI or by setting environment variables. For this notebook, we’ll assume that the credentials are already configured.\n",
    "\n",
    "To use bedrock we will use [__CrewAI__ __LLM__ api](https://docs.crewai.com/how-to/llm-connections#supported-providers) "
  },
  {
   "metadata": {
    "ExecuteTime": {
     "end_time": "2024-11-23T18:11:29.294184Z",
     "start_time": "2024-11-23T18:11:26.717248Z"
    }
   },
   "source": [
    "from crewai import Agent, Task, Crew, LLM\n",
    "from crewai_tools import tool\n",
    "from langchain_community.tools import DuckDuckGoSearchRun"
  },
  {
   "cell_type": "markdown",
  },
  {
   "metadata": {
    "ExecuteTime": {
     "end_time": "2024-11-23T18:11:31.718999Z",
     "start_time": "2024-11-23T18:11:31.710378Z"
    }
   },
   "source": [
    "@tool('DuckDuckGoSearch')\n",
    "def search(search_query: str):\n",
    "    \"\"\"Search the web for information on a given topic\"\"\"\n",
    "    return DuckDuckGoSearchRun().run(search_query)"
  },
  {
   "cell_type": "markdown",
   "source": [
    "### Configuring the LLM\n",
    "\n",
    "We will use Anthropic’s Claude-3 model via Amazon Bedrock as our LLM. CrewAI uses LiteLLM under the hood to interact with different LLM providers.\n"
  },
  {
   "metadata": {
    "ExecuteTime": {
     "end_time": "2024-11-23T18:11:32.100613Z",
     "start_time": "2024-11-23T18:11:32.099038Z"
    }
   },
   "source": [
    "# Configure the LLM\n",
    "llm = LLM(model=\"bedrock/anthropic.claude-3-haiku-20240307-v1:0\")"
  },
  {
   "metadata": {},
   "source": [
    "### Defining the Agent\n",
    "\n",
    "We will create an agent with the role of a “Travel Destination Researcher.” This agent will be responsible for finding destinations that match the user’s travel preferences."
  },
  {
   "metadata": {
    "ExecuteTime": {
     "end_time": "2024-11-23T18:11:32.495856Z",
     "start_time": "2024-11-23T18:11:32.491943Z"
    }
   },
   "source": [
    "# Define the Agent\n",
    "travel_agent = Agent(\n",
    "    role='Travel Destination Researcher',\n",
    "    goal='Find dream destinations matching user preferences',\n",
    "    backstory=\"You are an experienced travel agent specializing in personalized travel recommendations.\",\n",
    "    verbose=True,\n",
    "    allow_delegation=False,\n",
    "    llm=llm,\n",
    "    tools=[search]  # Tool for online searching\n",
    ")"
  },
  {
   "cell_type": "markdown",
   "source": [
    "### Defining the Task\n",
    "\n",
    "We need to specify the task that the agent will perform. The task includes a description, expected output, and is assigned to the agent we just created."
  },
  {
   "metadata": {
    "ExecuteTime": {
     "end_time": "2024-11-23T18:11:32.826336Z",
     "start_time": "2024-11-23T18:11:32.824435Z"
    }
   },
   "source": [
    "# Define the Task\n",
    "task = Task(\n",
    "    description=\"Based on the user's travel preferences: {preferences}, research and recommend suitable travel destinations.\",\n",
    "    expected_output=\"A list of recommended destinations with brief descriptions.\",\n",
    "    agent=travel_agent\n",
    ")"
  },
  {
   "cell_type": "markdown",
   "source": [
    "### Creating the Crew\n",
    "\n",
    "A crew is a team of agents working together to achieve a common goal. In this case, we have only one agent, but the framework allows for scalability.\n"
  },
  {
   "metadata": {
    "ExecuteTime": {
     "end_time": "2024-11-23T18:11:33.213570Z",
     "start_time": "2024-11-23T18:11:33.209168Z"
    }
   },
   "source": [
    "# Create the Crew\n",
    "crew = Crew(\n",
    "    agents=[travel_agent],\n",
    "    tasks=[task],\n",
    "    verbose=True,\n",
    ")"
  },
  {
   "cell_type": "markdown",
   "source": [
    "### Executing the Workflow\n",
    "\n",
    "Now, we can execute the crew with the user’s travel preferences as input."
  },
  {
   "metadata": {
    "ExecuteTime": {
     "end_time": "2024-11-23T18:11:41.271081Z",
     "start_time": "2024-11-23T18:11:33.527509Z"
    }
   },
   "source": [
    "# User input for travel preferences\n",
    "user_input = {\n",
    "    \"preferences\": \"I want a tropical beach vacation with great snorkeling and vibrant nightlife.\"\n",
    "}\n",
    "\n",
    "# Execute the Crew\n",
    "result = crew.kickoff(inputs=user_input)"
     ]
  },
  {
   "metadata": {},
   "source": [
    "#### As the crew executes, CrewAI will:\n",
    "\n",
    "•\tDecompose the task into actions using ReAct (Reasoning and Act), optionally using the tools assigned to the agent.\n",
    "\n",
    "•\tMake multiple calls to Amazon Bedrock to complete each step from the previous phase."
  },
  {
   "metadata": {
    "ExecuteTime": {
     "end_time": "2024-11-23T18:11:41.283560Z",
     "start_time": "2024-11-23T18:11:41.281784Z"
    }
   },
   "outputs": [],
  },
  {
   "metadata": {
    "ExecuteTime": {
     "end_time": "2024-11-23T18:11:41.292671Z",
     "start_time": "2024-11-23T18:11:41.289243Z"
    }
   },
  },
  {
   "metadata": {},
   "source": [
    "### Adding Memory to the Agent\n",
    "CrewAI supports [several memory types](https://docs.crewai.com/concepts/memory#implementing-memory-in-your-crew), which help agents remember and learn from past interactions. In this case, we’ll enable short-term memory using Amazon Bedrock’s embedding model."
  },
  {
   "metadata": {
    "ExecuteTime": {
     "end_time": "2024-11-23T18:11:41.307134Z",
     "start_time": "2024-11-23T18:11:41.301227Z"
    }
   },
   "source": [
    "# Enabling Memory in the Agent\n",
    "crew_with_memory = Crew(\n",
    "    agents=[travel_agent],\n",
    "    tasks=[task],\n",
    "    verbose=True,\n",
    "    memory=True,  # Enable memory\n",
    "    embedder={\n",
    "        \"provider\": \"aws_bedrock\",\n",
    "        \"config\": {\n",
    "            \"model\": \"amazon.titan-embed-text-v2:0\",  # Embedding model for memory\n",
    "            \"vector_dimension\": 1024\n",
    "        }\n",
    "    },\n",
    "    \n",
    ")"
     ]
  },
  {
   "metadata": {
    "ExecuteTime": {
     "end_time": "2024-11-23T18:11:50.303578Z",
     "start_time": "2024-11-23T18:11:41.320688Z"
    }
   },
   "source": [
    "# Executing the Crew with Memory\n",
    "result_with_memory = crew_with_memory.kickoff(inputs=user_input)"
     ]
  },
  {
   "metadata": {
    "ExecuteTime": {
     "end_time": "2024-11-23T18:11:50.320251Z",
     "start_time": "2024-11-23T18:11:50.316090Z"
    }
   },
  },
  {
   "cell_type": "markdown",
   "source": [
    "### Integrating Retrieval-Augmented Generation (RAG) with Amazon Bedrock Knowledge Base\n",
    "In this section, we will enhance our dream destination finder agent by incorporating Retrieval-Augmented Generation (RAG) using Amazon Bedrock’s Knowledge Base. This will allow our agent to access up-to-date and domain-specific travel information, improving the accuracy and relevance of its recommendations.\n",
    "\n"
  },
  {
   "metadata": {},
   "source": [
    "#### What is Retrieval-Augmented Generation (RAG)?\n",
    "\n",
    "RAG is a technique that combines the capabilities of large language models (LLMs) with a retrieval mechanism to fetch relevant information from external data sources. By integrating RAG, our agent can retrieve the most recent and specific information from a knowledge base, overcoming the limitations of LLMs that may have outdated or insufficient data."
  },
  {
   "metadata": {},
   "source": [
    "Setting Up Amazon Bedrock Knowledge Base\n",
    "\n",
    "Before we proceed, ensure you have access to Amazon Bedrock and the necessary permissions to create and manage knowledge bases.\n",
    "\n",
    "* Step 1: Prepare Your Data\n",
    "* Step 2: Create a Knowledge Base in Amazon Bedrock\n",
    "* Step 3: Note the Knowledge Base ID\n",
    "\n",
    "After the knowledge base is created, note down its Knowledge Base ID (kb_id), which will be used in our code.\n",
    "\n",
    "Updating the Agent to Use RAG with CrewAI\n",
    "\n",
    "We will modify our agent to include a custom tool that queries the Amazon Bedrock Knowledge Base. This allows the agent to retrieve up-to-date information during its reasoning process."
  },
  {
   "metadata": {
    "ExecuteTime": {
     "end_time": "2024-11-23T18:11:50.401974Z",
     "start_time": "2024-11-23T18:11:50.330999Z"
    }
   },
   "source": [
    "import boto3\n",
    "# Initialize the Bedrock client\n",
    "bedrock_agent_runtime_client = boto3.client(\"bedrock-agent-runtime\", region_name=\"us-east-1\")\n",
    "# Note: Replace \"us-east-1\" with your AWS region."
  },
  {
   "metadata": {},
  },
  {
   "metadata": {
    "ExecuteTime": {
     "end_time": "2024-11-23T18:15:34.898140Z",
     "start_time": "2024-11-23T18:15:30.879768Z"
    }
   },
   "source": [
    "import os\n",
    "from uuid import uuid4\n",
    "from PyPDF2 import PdfReader\n",
    "from langchain.schema import Document\n",
    "from langchain.vectorstores import FAISS\n",
    "from langchain_aws import BedrockEmbeddings\n",
    "\n",
    "embeddings = BedrockEmbeddings(model_id=\"amazon.titan-embed-text-v2:0\")\n",
    "\n",
    "documents = []\n",
    "\n",
    "# Loop through PDFs in the specified folder\n",
    "for pdf_file in os.listdir(pdf_folder):\n",
    "    if pdf_file.endswith(\".pdf\"):\n",
    "        file_path = os.path.join(pdf_folder, pdf_file)\n",
    "        \n",
    "        # Extract text from PDF\n",
    "        reader = PdfReader(file_path)\n",
    "        text_content = \"\"\n",
    "        for page in reader.pages:\n",
    "            text_content += page.extract_text() + \"\\n\"\n",
    "        \n",
    "        # Create a Document instance\n",
    "        doc = Document(\n",
    "            page_content=text_content.strip(),\n",
    "            metadata={}  # Leave metadata empty for now\n",
    "        )\n",
    "        documents.append(doc)\n",
    "\n",
    "# Initialize FAISS vector store and embeddings\n",
    "embeddings = BedrockEmbeddings(model_id=\"amazon.titan-embed-text-v2:0\")\n",
    "vector_store = FAISS.from_documents(documents, embeddings)\n",
    "\n",
    "# Add unique IDs to documents and save the vector store\n",
    "uuids = [str(uuid4()) for _ in range(len(documents))]\n",
    "vector_store.add_documents(documents=documents, ids=uuids)"
      ]
     },
  {
   "metadata": {
    "ExecuteTime": {
     "end_time": "2024-11-23T18:15:34.976601Z",
     "start_time": "2024-11-23T18:15:34.973828Z"
    }
   },
   "source": [
    "@tool(\"TravelExpertSearchEngine\")\n",
    "def query_knowledge_base(question: str) -> str:\n",
    "    \"\"\"Queries the Amazon Bedrock Knowledge Base for travel-related information.\"\"\"\n",
    "    try:\n",
    "        res = vector_store.similarity_search(\n",
    "        question,\n",
    "        k=1,\n",
    "        )        \n",
    "        return res[0].page_content\n",
    "    except KeyError:\n",
    "        return \"No data available\"\n",
    "\n"
  },
  {
   "metadata": {},
   "source": [
    "### Update the Agent with the New Tool\n",
    "We will update our agent to include the TravelExpert tool."
  },
  {
   "metadata": {
    "ExecuteTime": {
     "end_time": "2024-11-23T18:15:35.485173Z",
     "start_time": "2024-11-23T18:15:35.481272Z"
    }
   },
   "source": [
    "# Configure the LLM\n",
    "llm = LLM(model=\"bedrock/anthropic.claude-3-haiku-20240307-v1:0\")\n",
    "\n",
    "# Update the Agent\n",
    "agent_with_rag = Agent(\n",
    "    role='Travel Destination Researcher',\n",
    "    goal='Find dream destinations in the USA using only the travel guide available, first lookup cities using the tool to match user preferences and then use information from the search engine, nothing else.',\n",
    "    backstory=\"\"\"You are an experienced travel agent specializing in personalized travel recommendations. \n",
    "                 Your approach is as follows: \n",
    "                 Deduce which regions within the USA will have those activities listed by the user.\n",
    "                 List major cities within that region\n",
    "                 Only then use the tool provided to look up information, look up should be done by passing city highlights and activities.\n",
    "                 Only suggest places that were extracted using the lookup tool,\n",
    "              \"\"\",\n",
    "    verbose=True,\n",
    "    allow_delegation=False,\n",
    "    llm=llm,\n",
    "    tools=[query_knowledge_base],  # Include the RAG tool\n",
    "    max_iter=3\n",
    ")\n"
  },
  {
   "metadata": {},
  },
  {
   "metadata": {
    "ExecuteTime": {
     "end_time": "2024-11-23T18:15:37.628624Z",
     "start_time": "2024-11-23T18:15:37.622076Z"
    }
   },
   "source": [
    "# Define the Task\n",
    "task_with_rag = Task(\n",
    "    description=\"Based on the user's travel request, research and recommend suitable travel destinations using the latest information. Only use output provided by the Travel Destination Researcher, nothing else: USER: {preferences}\",\n",
    "    expected_output=\"A place where they can travel to along with recommendations on what to see and do while there.\",\n",
    "    agent=agent_with_rag\n",
    ")\n",
    "\n",
    "\n",
    "# Create the Crew\n",
    "crew_with_rag = Crew(\n",
    "    agents=[agent_with_rag],\n",
    "    tasks=[task_with_rag],\n",
    "    verbose=True,\n",
    ")"
     ]
  },
  {
   "metadata": {
    "ExecuteTime": {
     "end_time": "2024-11-23T18:15:44.733535Z",
     "start_time": "2024-11-23T18:15:38.058190Z"
    }
   },
   "source": [
    "# User input for travel preferences\n",
    "user_input = {\n",
    "    \"preferences\": \"Where can I go for cowboy vibes, watch a rodeo, and a visit museums?\"\n",
    "}\n",
    "\n",
    "# Execute the Crew\n",
    "result_with_rag = crew_with_rag.kickoff(inputs=user_input)\n"
     ]
  },
  {
   "metadata": {},
  },
  {
   "metadata": {
    "ExecuteTime": {
     "end_time": "2024-11-23T18:15:44.743348Z",
     "start_time": "2024-11-23T18:15:44.740838Z"
    }
   },
   "source": [
    "# Display the result\n",
    "Markdown(result_with_rag.raw)"
     },
     "metadata": {},
   "outputs": [],
  }
 ],
 "metadata": {
  "kernelspec": {
   "display_name": "Python 3",
   "language": "python",
   "name": "python3"
  },
  "language_info": {
   "codemirror_mode": {
    "name": "ipython",
    "version": 2
   },
   "file_extension": ".py",
   "mimetype": "text/x-python",
   "name": "python",
   "nbconvert_exporter": "python",
   "pygments_lexer": "ipython2",
   "version": "2.7.6"
  }
 },
 "nbformat": 4,
 "nbformat_minor": 5
}
