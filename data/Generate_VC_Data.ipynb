{
 "cells": [
  {
   "cell_type": "code",
   "execution_count": 3,
   "id": "ade824ba-28f5-46b2-b055-e2788c818a73",
   "metadata": {},
   "outputs": [
    {
     "name": "stdout",
     "output_type": "stream",
     "text": [
      "CSV file 'vc_deals_database.csv' has been created successfully with 50 deals.\n"
     ]
    }
   ],
   "source": [
    "import csv\n",
    "from datetime import datetime, timedelta\n",
    "import random\n",
    "\n",
    "# Function to generate random dates within the last 10 years\n",
    "def random_date():\n",
    "    end = datetime.now()\n",
    "    start = end - timedelta(days=3650)  # 10 years\n",
    "    return start + timedelta(days=random.randint(0, 3650))\n",
    "\n",
    "# Lists for generating random but realistic data\n",
    "company_names_prefix = [\"Tech\", \"AI\", \"Data\", \"Cloud\", \"Cyber\", \"Bio\", \"Fin\", \"Health\", \"Smart\", \"Green\"]\n",
    "company_names_suffix = [\"Systems\", \"Solutions\", \"Analytics\", \"Technologies\", \"Platform\", \"Networks\", \"Labs\", \"Connect\", \"Logic\", \"Scale\"]\n",
    "industries = [\"SaaS\", \"FinTech\", \"HealthTech\", \"AI/ML\", \"Cybersecurity\", \"BioTech\", \"CleanTech\", \"E-commerce\", \"EdTech\", \"IoT\"]\n",
    "technologies = [\"Python\", \"Java\", \"Cloud Native\", \"Blockchain\", \"AI/ML\", \"React\", \"Mobile\", \"Big Data\", \"DevOps\", \"Kubernetes\"]\n",
    "funding_rounds = [\"Seed\", \"Series A\", \"Series B\", \"Series C\", \"Series D\"]\n",
    "exit_statuses = [\"Active\", \"IPO\", \"Acquired\", \"Merged\", \"Active\"]\n",
    "\n",
    "# List of analysts (some will be repeated more frequently)\n",
    "analysts = [\n",
    "    \"Sarah Johnson\",\n",
    "    \"Michael Chen\",\n",
    "    \"Emma Thompson\",\n",
    "    \"David Kim\",\n",
    "    \"Rachel Martinez\",\n",
    "    \"Sarah Johnson\",  # Repeated\n",
    "    \"Michael Chen\",   # Repeated\n",
    "    \"Emma Thompson\",  # Repeated\n",
    "    \"David Kim\",      # Repeated\n",
    "    \"Sarah Johnson\",  # Repeated again\n",
    "    \"Michael Chen\"    # Repeated again\n",
    "]\n",
    "\n",
    "# Function to create sample VC deal data\n",
    "def generate_vc_deals(num_deals=50):\n",
    "    deals = []\n",
    "    \n",
    "    for _ in range(num_deals):\n",
    "        # Generate company name\n",
    "        company_name = f\"{random.choice(company_names_prefix)}{random.choice(company_names_suffix)}\"\n",
    "        \n",
    "        # Generate financial data\n",
    "        revenue = round(random.uniform(1, 100), 2)  # Revenue in millions\n",
    "        valuation = revenue * random.uniform(5, 20)  # Valuation in millions\n",
    "        revenue_multiplier = round(valuation / revenue, 2)\n",
    "        \n",
    "        # Generate other deal attributes\n",
    "        deal = {\n",
    "            'company_name': company_name,\n",
    "            'investment_date': random_date().strftime('%Y-%m-%d'),\n",
    "            'industry': random.choice(industries),\n",
    "            'technology_stack': random.choice(technologies),\n",
    "            'funding_round': random.choice(funding_rounds),\n",
    "            'investment_amount_m': round(random.uniform(1, 50), 2),\n",
    "            'revenue_m': revenue,\n",
    "            'valuation_m': round(valuation, 2),\n",
    "            'revenue_multiplier': revenue_multiplier,\n",
    "            'equity_stake': round(random.uniform(5, 30), 2),\n",
    "            'exit_status': random.choice(exit_statuses),\n",
    "            'irr_percentage': round(random.uniform(15, 100), 2) if random.random() > 0.3 else None,\n",
    "            'analyst': random.choice(analysts)  # Add analyst to each deal\n",
    "        }\n",
    "        deals.append(deal)\n",
    "    \n",
    "    return deals\n",
    "\n",
    "# Generate the deals\n",
    "vc_deals = generate_vc_deals()\n",
    "\n",
    "# Write to CSV file\n",
    "filename = 'vc_deals_database.csv'\n",
    "fields = ['company_name', 'investment_date', 'industry', 'technology_stack', \n",
    "          'funding_round', 'investment_amount_m', 'revenue_m', 'valuation_m',\n",
    "          'revenue_multiplier', 'equity_stake', 'exit_status', 'irr_percentage', 'analyst']\n",
    "\n",
    "with open(filename, 'w', newline='') as csvfile:\n",
    "    writer = csv.DictWriter(csvfile, fieldnames=fields)\n",
    "    writer.writeheader()\n",
    "    writer.writerows(vc_deals)\n",
    "\n",
    "print(f\"CSV file '{filename}' has been created successfully with {len(vc_deals)} deals.\")"
   ]
  },
  {
   "cell_type": "code",
   "execution_count": null,
   "id": "c6b18748-d7a5-480d-9c0c-08962bf220c9",
   "metadata": {},
   "outputs": [],
   "source": [
    "df"
   ]
  }
 ],
 "metadata": {
  "kernelspec": {
   "display_name": "Python 3 (ipykernel)",
   "language": "python",
   "name": "python3"
  },
  "language_info": {
   "codemirror_mode": {
    "name": "ipython",
    "version": 3
   },
   "file_extension": ".py",
   "mimetype": "text/x-python",
   "name": "python",
   "nbconvert_exporter": "python",
   "pygments_lexer": "ipython3",
   "version": "3.11.11"
  }
 },
 "nbformat": 4,
 "nbformat_minor": 5
}
