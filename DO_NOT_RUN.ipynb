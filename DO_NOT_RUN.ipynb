{
 "cells": [
  {
   "cell_type": "markdown",
   "metadata": {},
   "source": [
    "# DO NOT RUN this notebook\n",
    "\n",
    "This notebook has code snippets for reference only. Do not run this notebook during the workshop. "
   ]
  },
  {
   "cell_type": "markdown",
   "metadata": {},
   "source": [
    "## Interactive agentic flows with return of control: interact with a user during execution time for additional inputs\n",
    "\n",
    "Sometimes, additional input might be required to execute a tool or to solve a higher level task. In this case, we need to return control back to the user to collect human feedback. In LangGraph this can be implemented through a breakpoint-like concept: we stop graph execution at a specific step. At this breakpoint, we can wait for human input. Once we have input from the user, we can add it to the graph state and proceed. In what follows, we will extend our agentic assistant to support user interaction through return of control."
   ]
  },
  {
   "cell_type": "markdown",
   "metadata": {},
   "source": [
    "### Additional tool: AskHuman\n",
    "\n",
    "Since we want to involve the user into our flow, we need to create a separate tool for that. We call it `AskHuman`."
   ]
  },
  {
   "cell_type": "code",
   "execution_count": null,
   "metadata": {},
   "outputs": [],
   "source": [
    "from pydantic import BaseModel\n",
    "\n",
    "class AskHuman(BaseModel):\n",
    "    \"\"\"Ask missing information from the user\"\"\"\n",
    "\n",
    "    question: str"
   ]
  },
  {
   "cell_type": "markdown",
   "metadata": {},
   "source": [
    "## Agent"
   ]
  },
  {
   "cell_type": "code",
   "execution_count": null,
   "metadata": {},
   "outputs": [],
   "source": [
    "from langchain_core.prompts import ChatPromptTemplate\n",
    "from langchain_core.runnables import Runnable, RunnableConfig\n",
    "\n",
    "primary_assistant_prompt = ChatPromptTemplate.from_messages(\n",
    "    [\n",
    "        (\n",
    "            \"system\",\n",
    "            \"You are a helpful assistant capable of providing travel recommendations.\"\n",
    "            \" Use the provided tools to look for personalized travel recommendations and information about specific destinations.\"\n",
    "            \" If you dont have enough information then use AskHuman tool to get required information. \"\n",
    "            \" When searching, be persistent. Expand your query bounds if the first search returns no results. \"\n",
    "            \" If a search comes up empty, expand your search before giving up.\"\n",
    "            \" If you dont have enough information then use AskHuman tool to get required information. \",\n",
    "        ),\n",
    "        (\"placeholder\", \"{messages}\"),\n",
    "    ]\n",
    ")\n",
    "\n",
    "llm = ChatBedrockConverse(\n",
    "    model=\"anthropic.claude-3-sonnet-20240229-v1:0\",\n",
    "    temperature=0,\n",
    "    max_tokens=None,\n",
    "    client=bedrock_client,\n",
    "    # other params...\n",
    ")\n",
    "\n",
    "\n",
    "runnable_with_tools = primary_assistant_prompt | llm.bind_tools(tools + [AskHuman])\n",
    "def call_model(state: State, config: RunnableConfig):\n",
    "    response = runnable_with_tools.invoke(state)\n",
    "    return {\"messages\": [response]}"
   ]
  },
  {
   "cell_type": "markdown",
   "metadata": {},
   "source": [
    "We also need to define a fake node to ask human"
   ]
  },
  {
   "cell_type": "code",
   "execution_count": null,
   "metadata": {},
   "outputs": [],
   "source": [
    "# We define a fake node to ask the human\n",
    "def ask_human(state):\n",
    "    pass"
   ]
  },
  {
   "cell_type": "markdown",
   "metadata": {},
   "source": [
    "Let's also define a function that can handle conditional routing for the edges."
   ]
  },
  {
   "cell_type": "code",
   "execution_count": null,
   "metadata": {},
   "outputs": [],
   "source": [
    "def should_continue(state):\n",
    "    messages = state[\"messages\"]\n",
    "    last_message = messages[-1]\n",
    "    # If there is no function call, then we finish\n",
    "    if not last_message.tool_calls:\n",
    "        return \"end\"\n",
    "    elif last_message.tool_calls[0][\"name\"] == \"AskHuman\":\n",
    "        return \"ask_human\"\n",
    "    # Otherwise if there is, we continue\n",
    "    else:\n",
    "        return \"continue\""
   ]
  },
  {
   "cell_type": "code",
   "execution_count": null,
   "metadata": {},
   "outputs": [],
   "source": [
    "from langgraph.checkpoint.memory import MemorySaver\n",
    "from langgraph.graph import END, StateGraph, START\n",
    "from langgraph.prebuilt import ToolNode, tools_condition\n",
    "\n",
    "graph_builder = StateGraph(State)\n",
    "\n",
    "\n",
    "# Define nodes: these do the work\n",
    "graph_builder.add_edge(START, \"assistant\")\n",
    "graph_builder.add_node(\"assistant\", Assistant(runnable_with_tools))\n",
    "graph_builder.add_node(\"tools\", ToolNode(tools=tools))\n",
    "graph_builder.add_node(\"ask_human\", ask_human)\n",
    "\n",
    "# Define edges: these determine how the control flow moves\n",
    "graph_builder.add_conditional_edges(\n",
    "    \"assistant\",\n",
    "    # Next, we pass in the function that will determine which node is called next.\n",
    "    should_continue,\n",
    "    {\n",
    "        # If `tools`, then we call the tool node.\n",
    "        \"continue\": \"tools\",\n",
    "        # We may ask the human\n",
    "        \"ask_human\": \"ask_human\",\n",
    "        # Otherwise we finish.\n",
    "        \"end\": END,\n",
    "    },\n",
    ")\n",
    "\n",
    "graph_builder.add_edge(\"tools\", \"assistant\")\n",
    "# After we get back the human response, we go back to the agent\n",
    "graph_builder.add_edge(\"ask_human\", \"assistant\")\n",
    "\n",
    "# The checkpointer lets the graph persist its state\n",
    "# this is a complete memory for the entire graph.\n",
    "memory = MemorySaver()\n",
    "agent_with_hil = graph_builder.compile(\n",
    "    checkpointer=memory, interrupt_before=[\"ask_human\"]\n",
    ")"
   ]
  },
  {
   "cell_type": "code",
   "execution_count": null,
   "metadata": {},
   "outputs": [],
   "source": [
    "from IPython.display import Image, display\n",
    "\n",
    "display(Image(agent_with_hil.get_graph().draw_mermaid_png()))"
   ]
  },
  {
   "cell_type": "code",
   "execution_count": null,
   "metadata": {},
   "outputs": [],
   "source": [
    "from langchain_core.messages import HumanMessage\n",
    "\n",
    "config = {\"configurable\": {\"thread_id\": \"4\"}}\n",
    "\n",
    "input_message = HumanMessage(content=\"I want to book a travel destination\")\n",
    "for event in agent_with_hil.stream(\n",
    "    {\"messages\": [input_message]}, config, stream_mode=\"values\"\n",
    "):\n",
    "    event[\"messages\"][-1].pretty_print()"
   ]
  },
  {
   "cell_type": "markdown",
   "metadata": {},
   "source": [
    "We now want to pass a user input into the flow. Therefor, we need to update the State of this thread with a response from the user. Since we are treating AskHuman as a tool call, we will need to update the state with a response in style of a tool call response, including the id of the respective tool call."
   ]
  },
  {
   "cell_type": "code",
   "execution_count": null,
   "metadata": {},
   "outputs": [],
   "source": [
    "tool_call_id = (\n",
    "    agent_with_hil.get_state(config).values[\"messages\"][-1].tool_calls[0][\"id\"]\n",
    ")\n",
    "\n",
    "# We now create the tool call with the id and the response we want\n",
    "tool_message = [\n",
    "    {\"tool_call_id\": tool_call_id, \"type\": \"tool\", \"content\": \"I love beaches!\"}\n",
    "]\n",
    "\n",
    "agent_with_hil.update_state(config, {\"messages\": tool_message}, as_node=\"ask_human\")\n",
    "\n",
    "agent_with_hil.get_state(config).next"
   ]
  },
  {
   "cell_type": "markdown",
   "metadata": {},
   "source": [
    "We have now injected our user input into the State. The `.next` function shows clearly that the next step in the workflow `execution` will be the assistant, just as we defined in the state graph. We can now continue the graph `execution`."
   ]
  },
  {
   "cell_type": "code",
   "execution_count": null,
   "metadata": {},
   "outputs": [],
   "source": [
    "for event in agent_with_hil.stream(None, config, stream_mode=\"values\"):\n",
    "    event[\"messages\"][-1].pretty_print()"
   ]
  },
  {
   "cell_type": "markdown",
   "metadata": {},
   "source": [
    "## Hotel Agent with state update after interrupt\n",
    "\n",
    "In following code snippet we will showcase how you can interrupt the execution for sensitive tools and update the state after after human approval to continue the execution."
   ]
  },
  {
   "cell_type": "markdown",
   "metadata": {},
   "source": [
    "Let's add all the nodes in the graph and compile it to create our custom hotel agent.\n",
    "\n",
    "This graph will define the flow of our hotel booking system, including:\n",
    "\n",
    "1. The main hotel agent node for processing requests\n",
    "2. A tool node for executing search and retrieve hotel booking\n",
    "3. Another tool node for cancelling and changing hotel booking\n",
    "   \n",
    "The graph will use conditional edges to determine the next step based on the current state, allowing for a dynamic and responsive workflow. We'll also set up memory management to maintain state across interactions."
   ]
  },
  {
   "cell_type": "code",
   "execution_count": null,
   "metadata": {},
   "outputs": [],
   "source": [
    "from langgraph.graph import END, StateGraph, MessagesState\n",
    "from IPython.display import Image, display\n",
    "\n",
    "# Create a new graph workflow\n",
    "hotel_workflow = StateGraph(MessagesState)\n",
    "\n",
    "hotel_workflow.add_node(\"hotel_agent\", hotel_agent)\n",
    "hotel_workflow.add_node(\"search_and_retrieve_node\", search_and_retrieve_node)\n",
    "hotel_workflow.add_node(\"change_and_cancel_node\", change_and_cancel_node)\n",
    "\n",
    "hotel_workflow.add_edge(START, \"hotel_agent\")\n",
    "\n",
    "# We now add a conditional edge\n",
    "hotel_workflow.add_conditional_edges(\n",
    "    \"hotel_agent\",\n",
    "    # Next, we pass in the function that will determine which node is called next.\n",
    "    should_continue,\n",
    "    {\n",
    "        # If agent decides to use `suggest_hotels` or  `retrieve_hotel_booking`\n",
    "        \"continue\": \"search_and_retrieve_node\",\n",
    "        # If agent decides to use `change_hotel_booking` or  `cancel_hotel_booking`\n",
    "        \"human_approval\": \"change_and_cancel_node\",\n",
    "        \"end\": END,\n",
    "    },\n",
    ")\n",
    "\n",
    "\n",
    "hotel_workflow.add_edge(\"search_and_retrieve_node\", \"hotel_agent\")\n",
    "hotel_workflow.add_edge(\"change_and_cancel_node\", \"hotel_agent\")\n",
    "\n",
    "# Set up memory\n",
    "from langgraph.checkpoint.memory import MemorySaver\n",
    "\n",
    "memory = MemorySaver()\n",
    "\n",
    "hotel_graph_compiled = hotel_workflow.compile(\n",
    "    checkpointer=memory, interrupt_before=[\"change_and_cancel_node\"]\n",
    ")\n",
    "\n",
    "display(Image(hotel_graph_compiled.get_graph().draw_mermaid_png()))"
   ]
  },
  {
   "attachments": {
    "image.png": {
     "image/png": "[encoded data removed]"
    }
   },
   "cell_type": "markdown",
   "metadata": {},
   "source": [
    "![image.png](attachment:image.png)"
   ]
  },
  {
   "cell_type": "code",
   "execution_count": null,
   "metadata": {},
   "outputs": [],
   "source": [
    "def _print_event(event: tuple, _printed: set, max_length=1500):\n",
    "    event_dict = event[1] if isinstance(event, tuple) else event\n",
    "\n",
    "    # Handle dialog state\n",
    "    current_state = event_dict.get(\"dialog_state\")\n",
    "    if current_state:\n",
    "        print(\"Currently in: \", current_state[-1])\n",
    "\n",
    "    message = event_dict.get(\"messages\")\n",
    "    if message:\n",
    "        if not isinstance(message, list):\n",
    "            message = [message]\n",
    "\n",
    "        # Get the last message\n",
    "        last_message = message[-1]\n",
    "\n",
    "        message_id = getattr(last_message, \"id\", str(id(last_message)))\n",
    "\n",
    "        if message_id not in _printed:\n",
    "            # Handle pretty printing based on message type\n",
    "            if hasattr(last_message, \"pretty_repr\"):\n",
    "                msg_repr = last_message.pretty_repr(html=True)\n",
    "            else:\n",
    "                msg_repr = f\"Content: {last_message.content}\"\n",
    "                if hasattr(last_message, \"additional_kwargs\"):\n",
    "                    msg_repr += f\"\\nAdditional info: {last_message.additional_kwargs}\"\n",
    "\n",
    "            if len(msg_repr) > max_length:\n",
    "                msg_repr = msg_repr[:max_length] + \" ... (truncated)\"\n",
    "\n",
    "            print(msg_repr)\n",
    "            _printed.add(message_id)"
   ]
  },
  {
   "cell_type": "code",
   "execution_count": null,
   "metadata": {},
   "outputs": [],
   "source": [
    "import uuid\n",
    "from langchain_core.messages import ToolMessage\n",
    "\n",
    "thread_id = str(uuid.uuid4())\n",
    "\n",
    "_printed = set()\n",
    "config = {\"configurable\": {\"thread_id\": thread_id}}\n",
    "\n",
    "events = hotel_graph_compiled.stream(\n",
    "    {\"messages\": (\"user\", \"Get details of my booking id 203\")},\n",
    "    config,\n",
    "    stream_mode=\"values\",\n",
    ")\n",
    "for event in events:\n",
    "    _print_event(event, _printed)"
   ]
  },
  {
   "cell_type": "code",
   "execution_count": null,
   "metadata": {},
   "outputs": [],
   "source": [
    "thread_id = str(uuid.uuid4())\n",
    "\n",
    "_printed = set()\n",
    "config = {\"configurable\": {\"thread_id\": thread_id}}\n",
    "\n",
    "events = hotel_graph_compiled.stream(\n",
    "    {\"messages\": (\"user\", \"cancel my hotel booking id 206\")},\n",
    "    config,\n",
    "    stream_mode=\"values\",\n",
    ")\n",
    "for event in events:\n",
    "    _print_event(event, _printed)"
   ]
  },
  {
   "cell_type": "code",
   "execution_count": null,
   "metadata": {},
   "outputs": [],
   "source": [
    "user_input = input(\n",
    "    \"Do you approve of the above actions? Type 'y' to continue;\"\n",
    "    \" otherwise, explain your requested changed.\\n\\n\"\n",
    ")\n",
    "if user_input.strip() == \"y\":\n",
    "    # Just continue\n",
    "    result = hotel_graph_compiled.invoke(\n",
    "        None,\n",
    "        config,\n",
    "    )\n",
    "    result[\"messages\"][-1].pretty_print()\n",
    "else:\n",
    "    result = hotel_graph_compiled.invoke(\n",
    "        {\n",
    "            \"messages\": [\n",
    "                ToolMessage(\n",
    "                    tool_call_id=event[\"messages\"][-1].tool_calls[0][\"id\"],\n",
    "                    content=f\"API call denied by user. Reasoning: '{user_input}'. Continue assisting, accounting for the user's input.\",\n",
    "                )\n",
    "            ]\n",
    "        },\n",
    "        config,\n",
    "    )\n",
    "    result[\"messages\"][-1].pretty_print()"
   ]
  },
  {
   "cell_type": "markdown",
   "metadata": {},
   "source": [
    "## Updating the sate of subgraph\n",
    "\n",
    "Once we compile the full graph. Hotel agent will be added as a sub graph. We need to update the state of subgraph after the interrupt. "
   ]
  },
  {
   "cell_type": "markdown",
   "metadata": {},
   "source": [
    "Now we are ready to test the graph. We will create a unique thread_id to manage memory. We have few sample questions to test the graph.\n",
    "\n",
    "snapshot retrieves the current state of the supervisor agent graph, which is required to check if there are pending operations or decisions that need user input. The snapshot.next field is checked in the while loop condition to determine if there are any pending operations requiring user approval.\n",
    "\n",
    "After getting the user input we update the state. While updating the state of subgraph, we need to make sure to pass config of subgraph - `state.tasks[0].state.config` .\n",
    "\n",
    "If user approves the action, we update the state and invoke the graph `supervisor_agent_graph.invoke(None, config, subgraphs=True)`\n",
    "\n",
    "If user rejects the action, we update the state with tool message and then continue with the graph."
   ]
  },
  {
   "cell_type": "code",
   "execution_count": null,
   "metadata": {},
   "outputs": [],
   "source": [
    "def extract_tool_id(pregel_task):\n",
    "    # Navigate to the messages in the state\n",
    "    messages = pregel_task.state.values.get(\"messages\", [])\n",
    "\n",
    "    # Find the last AIMessage\n",
    "    for message in reversed(messages):\n",
    "        if isinstance(message, AIMessage):\n",
    "            # Check if the message has tool_calls\n",
    "            tool_calls = getattr(message, \"tool_calls\", None)\n",
    "            if tool_calls:\n",
    "                # Return the id of the first tool call\n",
    "                return tool_calls[0][\"id\"]"
   ]
  },
  {
   "cell_type": "code",
   "execution_count": null,
   "metadata": {},
   "outputs": [],
   "source": [
    "thread_id = str(uuid.uuid4())\n",
    "_printed = set()\n",
    "config = {\"configurable\": {\"thread_id\": thread_id}}\n",
    "\n",
    "questions = [\n",
    "    \"Get details of my flight booking id 200\",\n",
    "    \"cancel my hotel booking id 136\",\n",
    "]\n",
    "for question in questions:\n",
    "    events = supervisor_agent_graph.stream(\n",
    "        {\"messages\": (\"user\", question)}, config, stream_mode=\"values\", subgraphs=True\n",
    "    )\n",
    "    for event in events:\n",
    "        _print_event(event, _printed)\n",
    "    snapshot = supervisor_agent_graph.get_state(config)\n",
    "    while snapshot.next:\n",
    "        try:\n",
    "            user_input = input(\n",
    "                \"Do you approve of the above actions? Type 'y' to continue;\"\n",
    "                \" otherwise, explain your requested changed.\\n\\n\"\n",
    "            )\n",
    "        except:\n",
    "            user_input = \"y\"\n",
    "        if user_input.strip() == \"y\":\n",
    "            # Just continue\n",
    "\n",
    "            supervisor_agent_graph.update_state(\n",
    "                state.tasks[0].state.config,\n",
    "                {\"messages\": \"Yes, cancel my booking\"},\n",
    "                as_node=\"change_and_cancel_node\",\n",
    "            )\n",
    "            result = supervisor_agent_graph.invoke(None, config, subgraphs=True)\n",
    "            result_dict = result[1]\n",
    "            result_dict[\"messages\"][-1].pretty_print()\n",
    "        else:\n",
    "            state = supervisor_agent_graph.get_state(config, subgraphs=True)\n",
    "            tool_id = extract_tool_id(state.tasks[0])\n",
    "            tool_message = [\n",
    "                {\n",
    "                    \"tool_call_id\": tool_id,\n",
    "                    \"type\": \"tool\",\n",
    "                    \"content\": f\"API call denied by user. Reasoning: '{user_input}'. Continue assisting, accounting for the user's input.\",\n",
    "                }\n",
    "            ]\n",
    "            supervisor_agent_graph.update_state(\n",
    "                state.tasks[0].state.config,\n",
    "                {\"messages\": tool_message},\n",
    "                as_node=\"change_and_cancel_node\",\n",
    "            )\n",
    "            result = supervisor_agent_graph.invoke(None, config, subgraphs=True)\n",
    "            _print_event(result, _printed)\n",
    "\n",
    "        snapshot = supervisor_agent_graph.get_state(config)"
   ]
  }
 ],
 "metadata": {
  "kernelspec": {
   "display_name": "Python 3",
   "language": "python",
   "name": "python3"
  },
  "language_info": {
   "name": "python",
   "version": "3.11.10"
  }
 },
 "nbformat": 4,
 "nbformat_minor": 2
}
